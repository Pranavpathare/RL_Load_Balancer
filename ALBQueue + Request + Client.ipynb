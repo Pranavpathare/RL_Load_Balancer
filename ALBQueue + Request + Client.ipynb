{
 "cells": [
  {
   "cell_type": "code",
   "execution_count": 3,
   "metadata": {},
   "outputs": [],
   "source": [
    "import numpy as np\n",
    "import time\n",
    "from collections import deque\n",
    "import threading"
   ]
  },
  {
   "cell_type": "raw",
   "metadata": {},
   "source": [
    "1. We are ignoring Caching here\n",
    "2. Only One EXTRA Thread for Client Function used"
   ]
  },
  {
   "cell_type": "markdown",
   "metadata": {},
   "source": [
    "## Final Request"
   ]
  },
  {
   "cell_type": "code",
   "execution_count": 59,
   "metadata": {},
   "outputs": [],
   "source": [
    "class Request:\n",
    "    \"\"\"Request Object of method: GET POST CONST RAND\\n\"\"\"\n",
    "    def __init__(self, method = 'RAND'):\n",
    "        self.granted = False\n",
    "        self._method = method\n",
    "        self.size = None\n",
    "        \n",
    "        if self._method == 'GET':\n",
    "            self.size = np.random.randint(1, 5)\n",
    "            \n",
    "        elif self._method == 'POST':\n",
    "            self.size = np.random.randint(3, 10)\n",
    "            \n",
    "        elif self._method == 'CONST':\n",
    "            self.size = 4\n",
    "            \n",
    "        elif self._method == 'RAND':\n",
    "            self._method = np.random.choice(('GET', 'POST'))\n",
    "            self.__init__(self._method)\n",
    "            \n",
    "        self.src_ip = '.'.join(tuple(map(str,np.random.randint(0, 255, 4))))\n",
    "        \n",
    "    def __del__(self):\n",
    "        #print(\"Request Complete .. Being deleted.\")\n",
    "        pass\n",
    "\n",
    "    def __repr__(self):\n",
    "        return f\"Request('{self._method}')\"\n",
    "\n",
    "    def __str__(self):\n",
    "        return f\"Request Object\\nMethod: {self._method}\\nSize: {self.size}\\nGranted: {self.granted}\""
   ]
  },
  {
   "cell_type": "markdown",
   "metadata": {},
   "source": [
    "## Final Client"
   ]
  },
  {
   "cell_type": "code",
   "execution_count": 60,
   "metadata": {},
   "outputs": [],
   "source": [
    "class Client:\n",
    "    \"\"\"Fires Requests towards the Load Balancer\"\"\"\n",
    "    def __init__(self, deq):\n",
    "        self._flag = 0\n",
    "        self._deq = deq\n",
    "        self._current = None\n",
    "    \n",
    "    def _uniform(self, r_type, rps : int): \n",
    "        \"\"\"Uniformly fires Requests of type rtype\"\"\"\n",
    "        sleep_duration = 1 / rps\n",
    "        while self._flag == 2:\n",
    "            new_r = Request(r_type)\n",
    "            #print(\"U\")\n",
    "            self._deq.appendleft(new_r)\n",
    "            time.sleep(sleep_duration*0.99)\n",
    "    \n",
    "    def _random(self, r_type, rps : int):\n",
    "        \"\"\"Fires Requests Randomly of type rtype : On average equals rps\"\"\"\n",
    "        sleep_duration = 1 / rps\n",
    "        while self._flag == 1:\n",
    "            fill = min(2*sleep_duration, abs(0.5 * np.random.randn() + sleep_duration))\n",
    "            #print(\"R\")\n",
    "            new_r = Request(r_type)\n",
    "            self._deq.appendleft(new_r)\n",
    "            time.sleep(fill)\n",
    "    \n",
    "    def _single(self, r_type):\n",
    "        \"\"\"Fires Single Request of type rtype\"\"\"\n",
    "        new_r = Request(r_type)\n",
    "        self._deq.appendleft(new_r)\n",
    "        \n",
    "    def _fire(self, method, r_type, rps):\n",
    "        if method == 'stop':\n",
    "            self._flag = 0\n",
    "            if self._current:\n",
    "                self._current.join()\n",
    "            self._current = None\n",
    "\n",
    "        elif method == 'uniform':\n",
    "            self._flag = -1\n",
    "            if self._current:\n",
    "                self._current.join()\n",
    "            self._flag = 2\n",
    "            self._current = threading.Thread(target = self._uniform, args = (r_type, rps))\n",
    "            self._current.start()\n",
    "                \n",
    "        elif method == \"random\":\n",
    "            self._flag = -1\n",
    "            if self._current:\n",
    "                self._current.join()\n",
    "            self._flag = 1\n",
    "            self._current = threading.Thread(target = self._random, args = (r_type, rps))\n",
    "            self._current.start()\n",
    "            \n",
    "        elif method == 'single':\n",
    "            self._flag = -1\n",
    "            if self._current:\n",
    "                self._current.join()\n",
    "            self._flag = 3\n",
    "            self._current = None\n",
    "            self._single(r_type) # Need thread here ?\n",
    "\n",
    "    def fire(self, method, rtype = \"RAND\", rps = 5):\n",
    "        \"\"\"method: Type of firing -> 'uniform', 'random', 'single'\\n\n",
    "        rtype: 'RAND', 'GET', 'POST', 'CONST'\\n\\tdefault RAND\\n\n",
    "        rps: int\\n\\tdefault 5\"\"\" \n",
    "        self._fire(method, rtype, rps)\n",
    "        \n",
    "    def __str__(self):\n",
    "        return f\"Client Simulator for Deque\""
   ]
  },
  {
   "cell_type": "markdown",
   "metadata": {},
   "source": [
    "## Final ALBQueue"
   ]
  },
  {
   "cell_type": "code",
   "execution_count": 77,
   "metadata": {},
   "outputs": [],
   "source": [
    "class ALBQueue(deque):\n",
    "    def __init__(self):\n",
    "        super()\n",
    "    \n",
    "    def queue_length(self):\n",
    "        \"\"\"Current len of queue\"\"\"\n",
    "        return len(self)\n",
    "    \n",
    "    def time_exp(self):\n",
    "        \"\"\"Time Taken to service Requests proportional to this\"\"\"\n",
    "        return sum([item.size for item in self])\n",
    "    \n",
    "    def post_count(self):\n",
    "        \"\"\"Count of POST method Requests in Queue\"\"\"\n",
    "        return sum([item._method == 'POST' for item in self])\n",
    "    \n",
    "    def get_count(self):\n",
    "        \"\"\"Count of GET method Requests in Queue\"\"\"\n",
    "        return sum([item._method == 'GET' for item in self])"
   ]
  },
  {
   "cell_type": "code",
   "execution_count": 78,
   "metadata": {},
   "outputs": [],
   "source": [
    "x = ALBQueue()"
   ]
  },
  {
   "cell_type": "code",
   "execution_count": 79,
   "metadata": {},
   "outputs": [],
   "source": [
    "c = Client(x)"
   ]
  },
  {
   "cell_type": "code",
   "execution_count": 80,
   "metadata": {},
   "outputs": [],
   "source": [
    "c.fire('random', rtype = 'RAND', rps = 3)"
   ]
  },
  {
   "cell_type": "code",
   "execution_count": 81,
   "metadata": {},
   "outputs": [],
   "source": [
    "c.fire('uniform', rtype = 'RAND', rps = 10)"
   ]
  },
  {
   "cell_type": "code",
   "execution_count": 82,
   "metadata": {},
   "outputs": [],
   "source": [
    "c.fire('single', rtype = 'POST')"
   ]
  },
  {
   "cell_type": "code",
   "execution_count": 83,
   "metadata": {},
   "outputs": [],
   "source": [
    "c.fire('stop')"
   ]
  },
  {
   "cell_type": "code",
   "execution_count": 84,
   "metadata": {},
   "outputs": [
    {
     "data": {
      "text/plain": [
       "10"
      ]
     },
     "execution_count": 84,
     "metadata": {},
     "output_type": "execute_result"
    }
   ],
   "source": [
    "x.queue_length()"
   ]
  },
  {
   "cell_type": "code",
   "execution_count": 86,
   "metadata": {},
   "outputs": [
    {
     "data": {
      "text/plain": [
       "40"
      ]
     },
     "execution_count": 86,
     "metadata": {},
     "output_type": "execute_result"
    }
   ],
   "source": [
    "x.time_exp()"
   ]
  },
  {
   "cell_type": "code",
   "execution_count": null,
   "metadata": {},
   "outputs": [],
   "source": []
  },
  {
   "cell_type": "code",
   "execution_count": null,
   "metadata": {},
   "outputs": [],
   "source": []
  },
  {
   "cell_type": "code",
   "execution_count": null,
   "metadata": {},
   "outputs": [],
   "source": []
  },
  {
   "cell_type": "code",
   "execution_count": null,
   "metadata": {},
   "outputs": [],
   "source": []
  },
  {
   "cell_type": "code",
   "execution_count": null,
   "metadata": {},
   "outputs": [],
   "source": []
  },
  {
   "cell_type": "code",
   "execution_count": null,
   "metadata": {},
   "outputs": [],
   "source": []
  },
  {
   "cell_type": "code",
   "execution_count": null,
   "metadata": {},
   "outputs": [],
   "source": []
  },
  {
   "cell_type": "code",
   "execution_count": null,
   "metadata": {},
   "outputs": [],
   "source": []
  },
  {
   "cell_type": "code",
   "execution_count": null,
   "metadata": {},
   "outputs": [],
   "source": []
  },
  {
   "cell_type": "code",
   "execution_count": null,
   "metadata": {},
   "outputs": [],
   "source": []
  },
  {
   "cell_type": "code",
   "execution_count": null,
   "metadata": {},
   "outputs": [],
   "source": []
  },
  {
   "cell_type": "code",
   "execution_count": null,
   "metadata": {},
   "outputs": [],
   "source": []
  },
  {
   "cell_type": "code",
   "execution_count": null,
   "metadata": {},
   "outputs": [],
   "source": [
    "class Client:\n",
    "    def __init__(self, rps = 5, method = \"RAND\"):\n",
    "        self.method = method\n",
    "        self.rps = rps\n",
    "        self.flag = None\n",
    "        \n",
    "    def _uniform(self):\n",
    "        sleep_duration = 1 / self.rps\n",
    "        while self.flag == 'UNFM':\n",
    "            for _ in range(self.rps):\n",
    "                new_r = Request(self.method)\n",
    "                print(\"U\")\n",
    "                new_deque.append(new_r)\n",
    "                time.sleep(sleep_duration*0.99)\n",
    "    \n",
    "    def _random(self):\n",
    "        while self.flag == 'RNDM':\n",
    "            rand_list = np.random.rand(self.rps)\n",
    "            rand_list /= np.sum(rand_list)\n",
    "            for sleep_duration in rand_list:\n",
    "                print(\"R\")\n",
    "                new_r = Request(self.method)\n",
    "                new_deque.append(new_r)\n",
    "                time.sleep(sleep_duration*0.99)\n",
    "                \n",
    "    def _flag_setter(self):\n",
    "        flag = input()\n",
    "        \n",
    "        if flag == 'UNFM' and self.flag == 'RNDM':\n",
    "            self.flag = 'UNFM'\n",
    "            self.current.join()\n",
    "            self.current = threading.Thread(target = self._uniform)\n",
    "            self.current.start()\n",
    "                               \n",
    "        elif flag == 'UNFM' and self.flag == 'STOP':\n",
    "            self.flag = 'UNFM'\n",
    "            self.current = threading.Thread(target = self._uniform)\n",
    "            self.current.start()\n",
    "            \n",
    "        elif flag == 'RNDM' and self.flag == 'UNFM':\n",
    "            self.flag = 'RNDM'\n",
    "            self.current.join()\n",
    "            self.current = threading.Thread(target = self._random)\n",
    "            self.current.start()\n",
    "        \n",
    "        elif flag == 'RNDM' and self.flag == 'STOP':\n",
    "            self.flag = 'RNDM'\n",
    "            self.current = threading.Thread(target = self._random)\n",
    "            self.current.start()\n",
    "                               \n",
    "        elif flag == 'STOP' and (self.flag == 'UNFM' or self.flag == 'RNDM'):\n",
    "            self.flag = 'STOP'\n",
    "            self.current.join()\n",
    "        \n",
    "    def _checker(self):\n",
    "        while True:\n",
    "            self._flag_setter()\n",
    "        \n",
    "                               \n",
    "                               \n",
    "    def fire(self):\n",
    "        flag = input()\n",
    "        if flag == 'UNFM':\n",
    "            self.flag = 'UNFM'\n",
    "            self.current = threading.Thread(target = self._uniform)\n",
    "            self.current.start()\n",
    "        elif flag == 'RNDM':\n",
    "            self.flag = 'RNDM'\n",
    "            self.current = threading.Thread(target = self._random)\n",
    "            self.current.start()\n",
    "            \n",
    "        threading.Thread(target = self._checker).start()"
   ]
  },
  {
   "cell_type": "code",
   "execution_count": null,
   "metadata": {},
   "outputs": [],
   "source": [
    "class Client:\n",
    "    def __init__(self, rps = 5, method = \"RAND\"):\n",
    "        self.method = method\n",
    "        self.rps = rps\n",
    "        self.flag = None\n",
    "        self.looper = True\n",
    "        \n",
    "    def _uniform(self):\n",
    "        sleep_duration = 1 / self.rps\n",
    "        while self.flag == 'UNFM':\n",
    "            for _ in range(self.rps):\n",
    "                new_r = Request(self.method)\n",
    "                print(\"U\")\n",
    "                new_deque.append(new_r)\n",
    "                time.sleep(sleep_duration*0.99)\n",
    "    \n",
    "    def _random(self):\n",
    "        while self.flag == 'RNDM':\n",
    "            rand_list = np.random.rand(self.rps)\n",
    "            rand_list /= np.sum(rand_list)\n",
    "            for sleep_duration in rand_list:\n",
    "                print(\"R\")\n",
    "                new_r = Request(self.method)\n",
    "                new_deque.append(new_r)\n",
    "                time.sleep(sleep_duration*0.99)\n",
    "                \n",
    "    def _flag_setter(self):\n",
    "        flag = input()\n",
    "        \n",
    "        if flag == 'UNFM' and self.flag == 'RNDM':\n",
    "            self.flag = 'UNFM'\n",
    "            self.current.join()\n",
    "            self.current = threading.Thread(target = self._uniform)\n",
    "            self.current.start()\n",
    "                               \n",
    "        elif flag == 'UNFM' and self.flag == 'STOP':\n",
    "            self.flag = 'UNFM'\n",
    "            self.current = threading.Thread(target = self._uniform)\n",
    "            self.current.start()\n",
    "            \n",
    "        elif flag == 'RNDM' and self.flag == 'UNFM':\n",
    "            self.flag = 'RNDM'\n",
    "            self.current.join()\n",
    "            self.current = threading.Thread(target = self._random)\n",
    "            self.current.start()\n",
    "        \n",
    "        elif flag == 'RNDM' and self.flag == 'STOP':\n",
    "            self.flag = 'RNDM'\n",
    "            self.current = threading.Thread(target = self._random)\n",
    "            self.current.start()\n",
    "                               \n",
    "        elif flag == 'STOP' and (self.flag == 'UNFM' or self.flag == 'RNDM'):\n",
    "            self.flag = 'STOP'\n",
    "            self.current.join()\n",
    "        \n",
    "        elif flag == 'BRKF':\n",
    "            if self.flag == 'UNFM' or self.flag == 'RNDM':\n",
    "                self.flag = None\n",
    "                self.current.join()\n",
    "            self.looper = False\n",
    "        \n",
    "                               \n",
    "                               \n",
    "    def fire(self):\n",
    "        flag = input()\n",
    "        while flag not in ('UNFM', 'RNDM'):\n",
    "            print(\"Invalid Entry\")\n",
    "            flag = input()\n",
    "        if flag == 'UNFM':\n",
    "            self.flag = 'UNFM'\n",
    "            self.current = threading.Thread(target = self._uniform)\n",
    "            self.current.start()\n",
    "        elif flag == 'RNDM':\n",
    "            self.flag = 'RNDM'\n",
    "            self.current = threading.Thread(target = self._random)\n",
    "            self.current.start()\n",
    "            \n",
    "        while self.looper:\n",
    "            self._flag_setter()\n",
    "            #print(threading.active_count())\n",
    "        #print(\"Firing Terminated\")"
   ]
  },
  {
   "cell_type": "code",
   "execution_count": null,
   "metadata": {},
   "outputs": [],
   "source": []
  }
 ],
 "metadata": {
  "kernelspec": {
   "display_name": "Python 3",
   "language": "python",
   "name": "python3"
  },
  "language_info": {
   "codemirror_mode": {
    "name": "ipython",
    "version": 3
   },
   "file_extension": ".py",
   "mimetype": "text/x-python",
   "name": "python",
   "nbconvert_exporter": "python",
   "pygments_lexer": "ipython3",
   "version": "3.7.4"
  }
 },
 "nbformat": 4,
 "nbformat_minor": 4
}
