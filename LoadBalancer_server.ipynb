{
 "cells": [
  {
   "cell_type": "code",
   "execution_count": 1,
   "metadata": {},
   "outputs": [],
   "source": [
    "import numpy as np\n",
    "class Request:\n",
    "    def __init__(self, method = 'NORM', rid = 0):\n",
    "        self.granted = False\n",
    "        self._method = method\n",
    "        self.rid = rid\n",
    "        self.size=1\n",
    "        if self._method == 'GET':\n",
    "            self.size = np.random.randint(1, 5)\n",
    "        elif self._method == 'POST':\n",
    "            self.size = np.random.randint(3, 10)\n",
    "        elif self._method == 'NORM':\n",
    "            self.size = 4\n",
    "        else:\n",
    "            #print(\"No such method\")\n",
    "            self.size = 4\n",
    "            self._method = 'NORM'\n",
    "            \n",
    "        self.src_ip = '.'.join(tuple(map(str,np.random.randint(0, 255, 4))))\n",
    "        \n",
    "    def _del_(self):\n",
    "        #print(\"Request Complete .. Being deleted.\")\n",
    "        pass\n",
    "\n",
    "    def _repr_(self):\n",
    "        return f\"Request('{self._method}')\"\n",
    "\n",
    "    def _str_(self):\n",
    "        return f\"Request Object\\nMethod: {self._method}\\nSize: {self.size}\\nGranted: {self.granted}\""
   ]
  },
  {
   "cell_type": "code",
   "execution_count": null,
   "metadata": {},
   "outputs": [],
   "source": []
  },
  {
   "cell_type": "code",
   "execution_count": 2,
   "metadata": {},
   "outputs": [],
   "source": [
    "import threading\n",
    "import time\n",
    "#TODO:\n",
    "#\t1. Crash condiditon--->use Epsilon-probability thing??\n",
    "#\t2. ShutDown signal\n",
    "\n",
    "class Server(object):\n",
    "\tdef __init__(self, serverMonitor):\n",
    "\t\t#state\n",
    "\t\t#\t0 -> Initialized\n",
    "\t\t#\t1 -> Idle\n",
    "\t\t#\t2 -> Running\n",
    "\t\t#\t3 -> Crashed\n",
    "\t\tself.state = 0\n",
    "\t\tself.serverMonitor = serverMonitor\n",
    "\t\tself.serverMonitor.bind_to(self.notifyChanges)\n",
    "\t\tprint(\"Server initialized\")\n",
    "\t\tself.thread = threading.Thread(target = self.execute)\n",
    "\t\tself.thread.start()\n",
    "\t\t#self.thread.join()\n",
    "\n",
    "\tdef execute(self):\n",
    "\t\twhile not self.serverMonitor.SHUT_DOWN:\n",
    "\t\t\twhile not (self.serverMonitor.isEmpty()):\n",
    "\t\t\t\tself.state = 2\n",
    "\t\t\t\treq = self.serverMonitor.getRequest()\n",
    "\t\t\t\tprint(\"now serving Request:\"+str(req.rid))\n",
    "\t\t\t\ttime.sleep(req.size)\n",
    "\t\t\tself.state = 1    \n",
    "\t\tprint(\"Server shutdown\")\n",
    "\n",
    "\tdef notifyChanges(self,serverMonitor):\n",
    "\t\tself.serverMonitor=serverMonitor"
   ]
  },
  {
   "cell_type": "code",
   "execution_count": 3,
   "metadata": {},
   "outputs": [],
   "source": [
    "import collections\n",
    "\n",
    "class ServerMonitor(object):\n",
    "\tdef __init__(self):\n",
    "\t\tself.Queue = collections.deque()\n",
    "\t\tself._observers = []\n",
    "\t\tself.SHUT_DOWN = False\n",
    "        \n",
    "\tdef shutdown(self):\n",
    "\t\tself.SHUT_DOWN = True\n",
    "\t\tself.Queue = 0\n",
    "        \n",
    "\t@property\n",
    "\tdef monitor(self):\n",
    "\t\treturn self.Queue\n",
    "    \n",
    "\t@monitor.setter\n",
    "\tdef monitor(self, request):\n",
    "\t\tself.insertRequest(request)\n",
    "\t\tfor callback in self._observers:\n",
    "\t\t\tprint('announcing change')\n",
    "\t\t\tcallback(self)\n",
    "    \n",
    "\tdef bind_to(self, callback):\n",
    "\t\tprint('bound')\n",
    "\t\tself._observers.append(callback)\n",
    "\n",
    "\n",
    "\t# Pop request Funtion | used by server instance\n",
    "\tdef getRequest(self):\n",
    "\t\treturn self.Queue.popleft()\t\t\t\t#remove from left\n",
    "\n",
    "\tdef insertRequest(self, request):\n",
    "\t\tself.Queue.append(request)\t\t\t#insert to right\n",
    "\n",
    "\tdef expectedServiceTime(self):\n",
    "\t\ttime=0\n",
    "\t\tfor req in self.Queue:\n",
    "\t\t\ttime+=req.size\n",
    "\t\treturn time\n",
    "        \n",
    "\tdef isEmpty(self):\n",
    "\t\tif (self.Queue):\n",
    "\t\t\treturn False\n",
    "\t\telse:\n",
    "\t\t\treturn True"
   ]
  },
  {
   "cell_type": "code",
   "execution_count": 4,
   "metadata": {},
   "outputs": [
    {
     "name": "stdout",
     "output_type": "stream",
     "text": [
      "bound\n",
      "Server initialized\n",
      "now serving Request:1\n",
      "bound\n",
      "Server initialized\n",
      "now serving Request:1\n"
     ]
    }
   ],
   "source": [
    "servers = []\n",
    "monitors = []\n",
    "count =2\n",
    "#initialization\n",
    "for _ in range(count):\n",
    "\tmonitor = ServerMonitor()\n",
    "\tmonitors.append(monitor)\n",
    "\treq = Request('POST',1)\n",
    "\tmonitor.insertRequest(req)\n",
    "\tserver = Server(monitor)\n",
    "\tservers.append(server)\n",
    "\n",
    "#alb = ALB(monitors)"
   ]
  },
  {
   "cell_type": "code",
   "execution_count": null,
   "metadata": {},
   "outputs": [],
   "source": [
    "for monitor in monitors:\n",
    "    monitor.insertRequest('GET')\n",
    "    monitor.insertRequest('POST')"
   ]
  },
  {
   "cell_type": "code",
   "execution_count": 8,
   "metadata": {},
   "outputs": [
    {
     "name": "stdout",
     "output_type": "stream",
     "text": [
      "0\n"
     ]
    }
   ],
   "source": [
    "#print(monitors[1].expectedServiceTime())\n",
    "print(monitors[1].monitor)"
   ]
  },
  {
   "cell_type": "code",
   "execution_count": 5,
   "metadata": {},
   "outputs": [
    {
     "name": "stdout",
     "output_type": "stream",
     "text": [
      "now serving Request:0\n"
     ]
    }
   ],
   "source": [
    "for i in range(0,17):\n",
    "    monitors[1].insertRequest(Request(rid=i))"
   ]
  },
  {
   "cell_type": "code",
   "execution_count": 7,
   "metadata": {},
   "outputs": [
    {
     "name": "stdout",
     "output_type": "stream",
     "text": [
      "Server shutdown\n"
     ]
    }
   ],
   "source": [
    "monitors[1].shutdown()"
   ]
  },
  {
   "cell_type": "code",
   "execution_count": null,
   "metadata": {},
   "outputs": [],
   "source": [
    "monitor[1] = ServerMonitor()"
   ]
  },
  {
   "cell_type": "code",
   "execution_count": null,
   "metadata": {},
   "outputs": [],
   "source": []
  }
 ],
 "metadata": {
  "kernelspec": {
   "display_name": "Python 3",
   "language": "python",
   "name": "python3"
  },
  "language_info": {
   "codemirror_mode": {
    "name": "ipython",
    "version": 3
   },
   "file_extension": ".py",
   "mimetype": "text/x-python",
   "name": "python",
   "nbconvert_exporter": "python",
   "pygments_lexer": "ipython3",
   "version": "3.7.4"
  }
 },
 "nbformat": 4,
 "nbformat_minor": 2
}
